{
 "cells": [
  {
   "cell_type": "code",
   "execution_count": 169,
   "metadata": {},
   "outputs": [],
   "source": [
    "# importing libraries\n",
    "import pandas as pd"
   ]
  },
  {
   "cell_type": "code",
   "execution_count": 170,
   "metadata": {},
   "outputs": [
    {
     "data": {
      "text/html": [
       "<div>\n",
       "<style scoped>\n",
       "    .dataframe tbody tr th:only-of-type {\n",
       "        vertical-align: middle;\n",
       "    }\n",
       "\n",
       "    .dataframe tbody tr th {\n",
       "        vertical-align: top;\n",
       "    }\n",
       "\n",
       "    .dataframe thead th {\n",
       "        text-align: right;\n",
       "    }\n",
       "</style>\n",
       "<table border=\"1\" class=\"dataframe\">\n",
       "  <thead>\n",
       "    <tr style=\"text-align: right;\">\n",
       "      <th></th>\n",
       "      <th>name</th>\n",
       "      <th>id</th>\n",
       "      <th>nametype</th>\n",
       "      <th>recclass</th>\n",
       "      <th>mass</th>\n",
       "      <th>fall</th>\n",
       "      <th>year</th>\n",
       "      <th>reclat</th>\n",
       "      <th>reclong</th>\n",
       "      <th>geolocation</th>\n",
       "      <th>:@computed_region_cbhk_fwbd</th>\n",
       "      <th>:@computed_region_nnqa_25f4</th>\n",
       "    </tr>\n",
       "  </thead>\n",
       "  <tbody>\n",
       "    <tr>\n",
       "      <th>0</th>\n",
       "      <td>Aachen</td>\n",
       "      <td>1</td>\n",
       "      <td>Valid</td>\n",
       "      <td>L5</td>\n",
       "      <td>21.0</td>\n",
       "      <td>Fell</td>\n",
       "      <td>1880-01-01T00:00:00.000</td>\n",
       "      <td>50.775</td>\n",
       "      <td>6.08333</td>\n",
       "      <td>{'type': 'Point', 'coordinates': [6.08333, 50....</td>\n",
       "      <td>NaN</td>\n",
       "      <td>NaN</td>\n",
       "    </tr>\n",
       "  </tbody>\n",
       "</table>\n",
       "</div>"
      ],
      "text/plain": [
       "     name  id nametype recclass  mass  fall                     year  reclat  \\\n",
       "0  Aachen   1    Valid       L5  21.0  Fell  1880-01-01T00:00:00.000  50.775   \n",
       "\n",
       "   reclong                                        geolocation  \\\n",
       "0  6.08333  {'type': 'Point', 'coordinates': [6.08333, 50....   \n",
       "\n",
       "   :@computed_region_cbhk_fwbd  :@computed_region_nnqa_25f4  \n",
       "0                          NaN                          NaN  "
      ]
     },
     "execution_count": 170,
     "metadata": {},
     "output_type": "execute_result"
    }
   ],
   "source": [
    "#Reading the data\n",
    "df=pd.read_json('https://data.nasa.gov/resource/y77d-th95.json')\n",
    "df.head(1)"
   ]
  },
  {
   "cell_type": "code",
   "execution_count": 171,
   "metadata": {},
   "outputs": [
    {
     "data": {
      "text/plain": [
       "name                             0\n",
       "id                               0\n",
       "nametype                         0\n",
       "recclass                         0\n",
       "mass                            28\n",
       "fall                             0\n",
       "year                             1\n",
       "reclat                          12\n",
       "reclong                         12\n",
       "geolocation                     12\n",
       ":@computed_region_cbhk_fwbd    867\n",
       ":@computed_region_nnqa_25f4    866\n",
       "dtype: int64"
      ]
     },
     "execution_count": 171,
     "metadata": {},
     "output_type": "execute_result"
    }
   ],
   "source": [
    "#Checking for the null values\n",
    "df.isnull().sum()"
   ]
  },
  {
   "cell_type": "code",
   "execution_count": 172,
   "metadata": {},
   "outputs": [],
   "source": [
    "#Dropping the columns with majority null values\n",
    "df.drop(columns=[':@computed_region_cbhk_fwbd',':@computed_region_nnqa_25f4'],axis=1,inplace=True)"
   ]
  },
  {
   "cell_type": "code",
   "execution_count": 173,
   "metadata": {},
   "outputs": [],
   "source": [
    "#Extracting coordinates from the geological column\n",
    "crd_1 = []\n",
    "crd_2 = []\n",
    "for dict_ in df['geolocation']:\n",
    "    if type(dict_)==dict:\n",
    "        crd_1.append(dict_['coordinates'][0])\n",
    "        crd_2.append(dict_['coordinates'][1])\n",
    "    else:\n",
    "        crd_1.append(dict_)\n",
    "        crd_2.append(dict_)\n",
    "\n",
    "df['coordinate_1'] = crd_1\n",
    "df['coordinate_2'] = crd_2"
   ]
  },
  {
   "cell_type": "code",
   "execution_count": 174,
   "metadata": {},
   "outputs": [],
   "source": [
    "df.drop(columns=['geolocation'],axis=1,inplace=True)"
   ]
  },
  {
   "cell_type": "code",
   "execution_count": 175,
   "metadata": {},
   "outputs": [
    {
     "data": {
      "text/plain": [
       "Fell     996\n",
       "Found      4\n",
       "Name: fall, dtype: int64"
      ]
     },
     "execution_count": 175,
     "metadata": {},
     "output_type": "execute_result"
    }
   ],
   "source": [
    "df.nametype.value_counts()\n",
    "df.fall.value_counts()"
   ]
  },
  {
   "cell_type": "code",
   "execution_count": 176,
   "metadata": {},
   "outputs": [],
   "source": [
    "#As the nametype column has only 1 feature and the fall column also has highly imbalanced data (around 96%) so we can drop both column\n",
    "df.drop(columns=['nametype','fall'],axis=1,inplace=True)"
   ]
  },
  {
   "cell_type": "code",
   "execution_count": 177,
   "metadata": {},
   "outputs": [],
   "source": [
    "#converting the year column into year format\n",
    "df['year']=df['year'].apply(lambda x:str(x)[:10])"
   ]
  },
  {
   "cell_type": "code",
   "execution_count": 186,
   "metadata": {},
   "outputs": [],
   "source": [
    "df['year']=pd.to_datetime(df['year'],errors='ignore')"
   ]
  },
  {
   "cell_type": "code",
   "execution_count": 180,
   "metadata": {},
   "outputs": [],
   "source": [
    "df['mass'].fillna(df['mass'].median(),inplace=True)\n",
    "df['reclat'].fillna(df['reclat'].median(),inplace=True)\n",
    "df['reclong'].fillna(df['reclong'].median(),inplace=True)\n",
    "df['coordinate_1'].fillna(df['coordinate_1'].median(),inplace=True)\n",
    "df['coordinate_2'].fillna(df['coordinate_2'].median(),inplace=True)"
   ]
  },
  {
   "cell_type": "code",
   "execution_count": 181,
   "metadata": {},
   "outputs": [
    {
     "data": {
      "text/plain": [
       "mass            0\n",
       "reclat          0\n",
       "reclong         0\n",
       "coordinate_1    0\n",
       "coordinate_2    0\n",
       "dtype: int64"
      ]
     },
     "execution_count": 181,
     "metadata": {},
     "output_type": "execute_result"
    }
   ],
   "source": [
    "df.select_dtypes(float).isnull().sum()"
   ]
  },
  {
   "cell_type": "code",
   "execution_count": 187,
   "metadata": {},
   "outputs": [
    {
     "data": {
      "text/html": [
       "<div>\n",
       "<style scoped>\n",
       "    .dataframe tbody tr th:only-of-type {\n",
       "        vertical-align: middle;\n",
       "    }\n",
       "\n",
       "    .dataframe tbody tr th {\n",
       "        vertical-align: top;\n",
       "    }\n",
       "\n",
       "    .dataframe thead th {\n",
       "        text-align: right;\n",
       "    }\n",
       "</style>\n",
       "<table border=\"1\" class=\"dataframe\">\n",
       "  <thead>\n",
       "    <tr style=\"text-align: right;\">\n",
       "      <th></th>\n",
       "      <th>name</th>\n",
       "      <th>id</th>\n",
       "      <th>recclass</th>\n",
       "      <th>mass</th>\n",
       "      <th>year</th>\n",
       "      <th>reclat</th>\n",
       "      <th>reclong</th>\n",
       "      <th>coordinate_1</th>\n",
       "      <th>coordinate_2</th>\n",
       "    </tr>\n",
       "  </thead>\n",
       "  <tbody>\n",
       "    <tr>\n",
       "      <th>0</th>\n",
       "      <td>Aachen</td>\n",
       "      <td>1</td>\n",
       "      <td>L5</td>\n",
       "      <td>21.0</td>\n",
       "      <td>1880-01-01</td>\n",
       "      <td>50.77500</td>\n",
       "      <td>6.08333</td>\n",
       "      <td>6.08333</td>\n",
       "      <td>50.77500</td>\n",
       "    </tr>\n",
       "    <tr>\n",
       "      <th>1</th>\n",
       "      <td>Aarhus</td>\n",
       "      <td>2</td>\n",
       "      <td>H6</td>\n",
       "      <td>720.0</td>\n",
       "      <td>1951-01-01</td>\n",
       "      <td>56.18333</td>\n",
       "      <td>10.23333</td>\n",
       "      <td>10.23333</td>\n",
       "      <td>56.18333</td>\n",
       "    </tr>\n",
       "    <tr>\n",
       "      <th>2</th>\n",
       "      <td>Abee</td>\n",
       "      <td>6</td>\n",
       "      <td>EH4</td>\n",
       "      <td>107000.0</td>\n",
       "      <td>1952-01-01</td>\n",
       "      <td>54.21667</td>\n",
       "      <td>-113.00000</td>\n",
       "      <td>-113.00000</td>\n",
       "      <td>54.21667</td>\n",
       "    </tr>\n",
       "    <tr>\n",
       "      <th>3</th>\n",
       "      <td>Acapulco</td>\n",
       "      <td>10</td>\n",
       "      <td>Acapulcoite</td>\n",
       "      <td>1914.0</td>\n",
       "      <td>1976-01-01</td>\n",
       "      <td>16.88333</td>\n",
       "      <td>-99.90000</td>\n",
       "      <td>-99.90000</td>\n",
       "      <td>16.88333</td>\n",
       "    </tr>\n",
       "    <tr>\n",
       "      <th>4</th>\n",
       "      <td>Achiras</td>\n",
       "      <td>370</td>\n",
       "      <td>L6</td>\n",
       "      <td>780.0</td>\n",
       "      <td>1902-01-01</td>\n",
       "      <td>-33.16667</td>\n",
       "      <td>-64.95000</td>\n",
       "      <td>-64.95000</td>\n",
       "      <td>-33.16667</td>\n",
       "    </tr>\n",
       "    <tr>\n",
       "      <th>...</th>\n",
       "      <td>...</td>\n",
       "      <td>...</td>\n",
       "      <td>...</td>\n",
       "      <td>...</td>\n",
       "      <td>...</td>\n",
       "      <td>...</td>\n",
       "      <td>...</td>\n",
       "      <td>...</td>\n",
       "      <td>...</td>\n",
       "    </tr>\n",
       "    <tr>\n",
       "      <th>995</th>\n",
       "      <td>Tirupati</td>\n",
       "      <td>24009</td>\n",
       "      <td>H6</td>\n",
       "      <td>230.0</td>\n",
       "      <td>1934-01-01</td>\n",
       "      <td>13.63333</td>\n",
       "      <td>79.41667</td>\n",
       "      <td>79.41667</td>\n",
       "      <td>13.63333</td>\n",
       "    </tr>\n",
       "    <tr>\n",
       "      <th>996</th>\n",
       "      <td>Tissint</td>\n",
       "      <td>54823</td>\n",
       "      <td>Martian (shergottite)</td>\n",
       "      <td>7000.0</td>\n",
       "      <td>2011-01-01</td>\n",
       "      <td>29.48195</td>\n",
       "      <td>-7.61123</td>\n",
       "      <td>-7.61123</td>\n",
       "      <td>29.48195</td>\n",
       "    </tr>\n",
       "    <tr>\n",
       "      <th>997</th>\n",
       "      <td>Tjabe</td>\n",
       "      <td>24011</td>\n",
       "      <td>H6</td>\n",
       "      <td>20000.0</td>\n",
       "      <td>1869-01-01</td>\n",
       "      <td>-7.08333</td>\n",
       "      <td>111.53333</td>\n",
       "      <td>111.53333</td>\n",
       "      <td>-7.08333</td>\n",
       "    </tr>\n",
       "    <tr>\n",
       "      <th>998</th>\n",
       "      <td>Tjerebon</td>\n",
       "      <td>24012</td>\n",
       "      <td>L5</td>\n",
       "      <td>16500.0</td>\n",
       "      <td>1922-01-01</td>\n",
       "      <td>-6.66667</td>\n",
       "      <td>106.58333</td>\n",
       "      <td>106.58333</td>\n",
       "      <td>-6.66667</td>\n",
       "    </tr>\n",
       "    <tr>\n",
       "      <th>999</th>\n",
       "      <td>Tomakovka</td>\n",
       "      <td>24019</td>\n",
       "      <td>LL6</td>\n",
       "      <td>600.0</td>\n",
       "      <td>1905-01-01</td>\n",
       "      <td>47.85000</td>\n",
       "      <td>34.76667</td>\n",
       "      <td>34.76667</td>\n",
       "      <td>47.85000</td>\n",
       "    </tr>\n",
       "  </tbody>\n",
       "</table>\n",
       "<p>1000 rows × 9 columns</p>\n",
       "</div>"
      ],
      "text/plain": [
       "          name     id               recclass      mass        year    reclat  \\\n",
       "0       Aachen      1                     L5      21.0  1880-01-01  50.77500   \n",
       "1       Aarhus      2                     H6     720.0  1951-01-01  56.18333   \n",
       "2         Abee      6                    EH4  107000.0  1952-01-01  54.21667   \n",
       "3     Acapulco     10            Acapulcoite    1914.0  1976-01-01  16.88333   \n",
       "4      Achiras    370                     L6     780.0  1902-01-01 -33.16667   \n",
       "..         ...    ...                    ...       ...         ...       ...   \n",
       "995   Tirupati  24009                     H6     230.0  1934-01-01  13.63333   \n",
       "996    Tissint  54823  Martian (shergottite)    7000.0  2011-01-01  29.48195   \n",
       "997      Tjabe  24011                     H6   20000.0  1869-01-01  -7.08333   \n",
       "998   Tjerebon  24012                     L5   16500.0  1922-01-01  -6.66667   \n",
       "999  Tomakovka  24019                    LL6     600.0  1905-01-01  47.85000   \n",
       "\n",
       "       reclong  coordinate_1  coordinate_2  \n",
       "0      6.08333       6.08333      50.77500  \n",
       "1     10.23333      10.23333      56.18333  \n",
       "2   -113.00000    -113.00000      54.21667  \n",
       "3    -99.90000     -99.90000      16.88333  \n",
       "4    -64.95000     -64.95000     -33.16667  \n",
       "..         ...           ...           ...  \n",
       "995   79.41667      79.41667      13.63333  \n",
       "996   -7.61123      -7.61123      29.48195  \n",
       "997  111.53333     111.53333      -7.08333  \n",
       "998  106.58333     106.58333      -6.66667  \n",
       "999   34.76667      34.76667      47.85000  \n",
       "\n",
       "[1000 rows x 9 columns]"
      ]
     },
     "execution_count": 187,
     "metadata": {},
     "output_type": "execute_result"
    }
   ],
   "source": [
    "df"
   ]
  }
 ],
 "metadata": {
  "kernelspec": {
   "display_name": "Python 3",
   "language": "python",
   "name": "python3"
  },
  "language_info": {
   "codemirror_mode": {
    "name": "ipython",
    "version": 3
   },
   "file_extension": ".py",
   "mimetype": "text/x-python",
   "name": "python",
   "nbconvert_exporter": "python",
   "pygments_lexer": "ipython3",
   "version": "3.11.2"
  },
  "orig_nbformat": 4
 },
 "nbformat": 4,
 "nbformat_minor": 2
}
