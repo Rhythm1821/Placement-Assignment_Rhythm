{
 "cells": [
  {
   "cell_type": "code",
   "execution_count": 1,
   "metadata": {},
   "outputs": [],
   "source": [
    "import pandas as pd\n",
    "from scipy.stats import wilcoxon"
   ]
  },
  {
   "cell_type": "code",
   "execution_count": 7,
   "metadata": {},
   "outputs": [],
   "source": [
    "data={'Before Therapy':[10,8,12,15,6,9,11,7,14,12],\n",
    " 'After Therapy':[7,6,10,12,5,8,9,6,12,8]}\n",
    "df=pd.DataFrame(data)"
   ]
  },
  {
   "attachments": {},
   "cell_type": "markdown",
   "metadata": {},
   "source": [
    "Null Hypothesis (H0): The therapy has no significant effect on anxiety levels. There is no significant difference between the before and after therapy anxiety levels.\n",
    "\n",
    "Alternative Hypothesis (H1): The therapy has a significant effect on anxiety levels. There is a significant difference between the before and after therapy anxiety levels."
   ]
  },
  {
   "cell_type": "code",
   "execution_count": 13,
   "metadata": {},
   "outputs": [
    {
     "name": "stdout",
     "output_type": "stream",
     "text": [
      "statistic value 0.0\n",
      "p-value 0.001953125\n",
      "We reject the null hypothesis\n"
     ]
    }
   ],
   "source": [
    "statistic,pvalue=wilcoxon(df['Before Therapy'],df['After Therapy'])\n",
    "print(f'statistic value {statistic}')\n",
    "print(f'p-value {pvalue}')\n",
    "alpha=0.05\n",
    "if pvalue<alpha:\n",
    "    print('We reject the null hypothesis')\n",
    "else:\n",
    "    print('We accept the null hypothesis')"
   ]
  }
 ],
 "metadata": {
  "kernelspec": {
   "display_name": "Python 3",
   "language": "python",
   "name": "python3"
  },
  "language_info": {
   "codemirror_mode": {
    "name": "ipython",
    "version": 3
   },
   "file_extension": ".py",
   "mimetype": "text/x-python",
   "name": "python",
   "nbconvert_exporter": "python",
   "pygments_lexer": "ipython3",
   "version": "3.11.2"
  },
  "orig_nbformat": 4
 },
 "nbformat": 4,
 "nbformat_minor": 2
}
