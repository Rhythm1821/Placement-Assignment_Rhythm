{
 "cells": [
  {
   "attachments": {},
   "cell_type": "markdown",
   "metadata": {},
   "source": [
    "a. What is the probability that exactly 20 bulbs are defective?"
   ]
  },
  {
   "cell_type": "code",
   "execution_count": 1,
   "metadata": {},
   "outputs": [
    {
     "name": "stdout",
     "output_type": "stream",
     "text": [
      "Probability of exactly 20 bulbs being defective: 0.05161619253663997\n",
      "Probability of at least 10 bulbs being defective: 0.9998316463654902\n",
      "Probability of at most 15 bulbs being defective: 0.019858377163006223\n",
      "Expected number of defective bulbs: 25.0\n"
     ]
    }
   ],
   "source": [
    "from math import comb\n",
    "\n",
    "n = 500  # Total number of light bulbs\n",
    "p = 0.05  # Probability of a bulb being defective\n",
    "\n",
    "# Probability of exactly 20 bulbs being defective\n",
    "k = 20\n",
    "prob_20_defective = comb(n, k) * (p ** k) * ((1 - p) ** (n - k))\n",
    "print(\"Probability of exactly 20 bulbs being defective:\", prob_20_defective)"
   ]
  },
  {
   "attachments": {},
   "cell_type": "markdown",
   "metadata": {},
   "source": [
    "b. What is the probability that at least 10 bulbs are defective?"
   ]
  },
  {
   "cell_type": "code",
   "execution_count": 2,
   "metadata": {},
   "outputs": [
    {
     "name": "stdout",
     "output_type": "stream",
     "text": [
      "Probability of at least 10 bulbs being defective: 0.9998316463654902\n"
     ]
    }
   ],
   "source": [
    "# Probability of at least 10 bulbs being defective\n",
    "prob_at_least_10_defective = 1 - sum(comb(n, k) * (p ** k) * ((1 - p) ** (n - k)) for k in range(10))\n",
    "print(\"Probability of at least 10 bulbs being defective:\", prob_at_least_10_defective)"
   ]
  },
  {
   "attachments": {},
   "cell_type": "markdown",
   "metadata": {},
   "source": [
    "c. What is the probability that at max 15 bulbs are defective?"
   ]
  },
  {
   "cell_type": "code",
   "execution_count": 3,
   "metadata": {},
   "outputs": [
    {
     "name": "stdout",
     "output_type": "stream",
     "text": [
      "Probability of at most 15 bulbs being defective: 0.019858377163006223\n"
     ]
    }
   ],
   "source": [
    "# Probability of at most 15 bulbs being defective\n",
    "prob_at_most_15_defective = sum(comb(n, k) * (p ** k) * ((1 - p) ** (n - k)) for k in range(16))\n",
    "print(\"Probability of at most 15 bulbs being defective:\", prob_at_most_15_defective)"
   ]
  },
  {
   "attachments": {},
   "cell_type": "markdown",
   "metadata": {},
   "source": [
    "d. On average, how many defective bulbs would you expect in a batch of 500?"
   ]
  },
  {
   "cell_type": "code",
   "execution_count": 4,
   "metadata": {},
   "outputs": [
    {
     "name": "stdout",
     "output_type": "stream",
     "text": [
      "Expected number of defective bulbs: 25.0\n"
     ]
    }
   ],
   "source": [
    "#  Expected number of defective bulbs\n",
    "expected_defective = n * p\n",
    "print(\"Expected number of defective bulbs:\", expected_defective)"
   ]
  }
 ],
 "metadata": {
  "kernelspec": {
   "display_name": "Python 3",
   "language": "python",
   "name": "python3"
  },
  "language_info": {
   "codemirror_mode": {
    "name": "ipython",
    "version": 3
   },
   "file_extension": ".py",
   "mimetype": "text/x-python",
   "name": "python",
   "nbconvert_exporter": "python",
   "pygments_lexer": "ipython3",
   "version": "3.11.2"
  },
  "orig_nbformat": 4
 },
 "nbformat": 4,
 "nbformat_minor": 2
}
